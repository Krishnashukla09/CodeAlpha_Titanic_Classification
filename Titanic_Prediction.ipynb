{
 "cells": [
  {
   "cell_type": "code",
   "execution_count": null,
   "id": "fb36dd7c-9048-4779-a7e9-f23675c4d867",
   "metadata": {},
   "outputs": [],
   "source": [
    "import pandas as pd\n",
    "import numpy as np\n",
    "import seaborn as sns\n",
    "import matplotlib.pyplot as plt\n",
    "%matplotlib inline"
   ]
  },
  {
   "cell_type": "code",
   "execution_count": null,
   "id": "2fdcc3f6-56ce-4eec-873b-a25fc8dcd100",
   "metadata": {},
   "outputs": [],
   "source": [
    "train_df = pd.read_csv(\"train.csv\")\n",
    "test_df = pd.read_csv(\"test.csv\")\n",
    "\n",
    "train_df.head()\n"
   ]
  },
  {
   "cell_type": "code",
   "execution_count": null,
   "id": "326c097c-b7cc-4104-bc0c-ce918a9aabd8",
   "metadata": {},
   "outputs": [],
   "source": [
    "train_df.isnull().sum()\n"
   ]
  },
  {
   "cell_type": "code",
   "execution_count": null,
   "id": "ee1b8e81-0ca1-427a-9fa6-0f4416641756",
   "metadata": {},
   "outputs": [],
   "source": [
    "# Age - fill with median\n",
    "train_df['Age'].fillna(train_df['Age'].median(), inplace=True)\n",
    "\n",
    "# Embarked - fill with most common\n",
    "train_df['Embarked'].fillna(train_df['Embarked'].mode()[0], inplace=True)\n",
    "\n",
    "# Drop Cabin (too many missing values)\n",
    "train_df.drop('Cabin', axis=1, inplace=True)\n",
    "\n",
    "# Verify\n",
    "train_df.isnull().sum()\n"
   ]
  },
  {
   "cell_type": "code",
   "execution_count": null,
   "id": "556c990e-5f19-4d58-9ad9-fa302e22baac",
   "metadata": {},
   "outputs": [],
   "source": [
    "sns.countplot(x='Survived', data=train_df)\n",
    "plt.title(\"Survived Count (0 = No, 1 = Yes)\")\n",
    "\n",
    "sns.countplot(x='Survived', hue='Sex', data=train_df)\n",
    "plt.title(\"Survival by Gender\")\n"
   ]
  },
  {
   "cell_type": "code",
   "execution_count": null,
   "id": "abcfd2b6-2b99-4ee9-bdfd-eb6a00098ccb",
   "metadata": {},
   "outputs": [],
   "source": [
    "from sklearn.preprocessing import LabelEncoder\n",
    "\n",
    "# Make a copy first\n",
    "df = train_df.copy()\n",
    "\n",
    "le = LabelEncoder()\n",
    "df['Sex'] = le.fit_transform(df['Sex'])         # male=1, female=0\n",
    "df['Embarked'] = le.fit_transform(df['Embarked']) # S=2, C=0, Q=1\n",
    "df['Pclass'] = df['Pclass'].astype(int)\n",
    "\n",
    "# Drop unused columns\n",
    "df.drop(['Name', 'Ticket', 'PassengerId'], axis=1, inplace=True)\n"
   ]
  },
  {
   "cell_type": "code",
   "execution_count": null,
   "id": "d40c5352-677a-46f5-b196-ebd017e929de",
   "metadata": {},
   "outputs": [],
   "source": [
    "from sklearn.model_selection import train_test_split\n",
    "from sklearn.ensemble import RandomForestClassifier\n",
    "from sklearn.metrics import accuracy_score, confusion_matrix\n",
    "\n",
    "# Split data\n",
    "X = df.drop(\"Survived\", axis=1)\n",
    "y = df[\"Survived\"]\n",
    "\n",
    "X_train, X_val, y_train, y_val = train_test_split(X, y, test_size=0.2, random_state=42)\n",
    "\n",
    "# Train model\n",
    "model = RandomForestClassifier()\n",
    "model.fit(X_train, y_train)\n",
    "\n",
    "# Predict\n",
    "y_pred = model.predict(X_val)\n",
    "\n",
    "# Accuracy\n",
    "print(\"Accuracy:\", accuracy_score(y_val, y_pred))\n",
    "sns.heatmap(confusion_matrix(y_val, y_pred), annot=True)\n"
   ]
  },
  {
   "cell_type": "code",
   "execution_count": null,
   "id": "b2b69843-b5b9-4263-9a07-b320306dd649",
   "metadata": {},
   "outputs": [],
   "source": [
    "# Preprocess test data similarly\n",
    "test_df['Age'].fillna(train_df['Age'].median(), inplace=True)\n",
    "test_df['Fare'].fillna(train_df['Fare'].median(), inplace=True)\n",
    "test_df['Embarked'].fillna(train_df['Embarked'].mode()[0], inplace=True)\n",
    "test_df.drop(['Cabin'], axis=1, inplace=True)\n",
    "\n",
    "test_df['Sex'] = le.transform(test_df['Sex'])\n",
    "test_df['Embarked'] = le.transform(test_df['Embarked'])\n",
    "\n",
    "X_test = test_df.drop(['Name', 'Ticket', 'PassengerId'], axis=1)\n",
    "\n",
    "# Predict\n",
    "test_pred = model.predict(X_test)\n",
    "\n",
    "# Submission CSV\n",
    "submission = pd.DataFrame({\n",
    "    'PassengerId': test_df['PassengerId'],\n",
    "    'Survived': test_pred\n",
    "})\n",
    "\n",
    "submission.to_csv('submission.csv', index=False)\n",
    "print(\"submission.csv ready!\")\n"
   ]
  },
  {
   "cell_type": "code",
   "execution_count": null,
   "id": "425a93f1-bae4-4c9a-9e71-66ed5574bca8",
   "metadata": {},
   "outputs": [],
   "source": []
  }
 ],
 "metadata": {
  "kernelspec": {
   "display_name": "base",
   "language": "python",
   "name": "python3"
  },
  "language_info": {
   "codemirror_mode": {
    "name": "ipython",
    "version": 3
   },
   "file_extension": ".py",
   "mimetype": "text/x-python",
   "name": "python",
   "nbconvert_exporter": "python",
   "pygments_lexer": "ipython3",
   "version": "3.11.7"
  }
 },
 "nbformat": 4,
 "nbformat_minor": 5
}
